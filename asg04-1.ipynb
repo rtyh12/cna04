{
 "cells": [
  {
   "cell_type": "markdown",
   "metadata": {},
   "source": [
    "# Assignment 4\n",
    "Submission from Maria Kagkeli, Maria Regina Lily, Mihai Verzan"
   ]
  },
  {
   "cell_type": "markdown",
   "metadata": {},
   "source": [
    "quick and dirty program to calculate the values in problem 1 for us"
   ]
  },
  {
   "cell_type": "code",
   "execution_count": 1,
   "metadata": {},
   "outputs": [
    {
     "name": "stdout",
     "output_type": "stream",
     "text": [
      "sum_val = 26.441627539966156\n",
      "Gamma = 1.756383092144017\n",
      "Sigma = 0.16913240110655092\n"
     ]
    }
   ],
   "source": [
    "import numpy as np\n",
    "\n",
    "degs = [3, 1, 1, 3, 2, 1, 7, 3, 1, 1, 1, 12, 2, 1, 4, 1, 1, 8, 1, 1]\n",
    "sum_val = 0\n",
    "for i in degs:\n",
    "    sum_val += np.log(i/0.5)\n",
    "    \n",
    "print(\"sum_val = {}\".format(sum_val))\n",
    "\n",
    "gamma = 1 + len(degs)*(1/(sum_val))\n",
    "print(\"Gamma = {}\".format(gamma))\n",
    "\n",
    "sigma = (gamma-1)/(np.sqrt(20))\n",
    "print(\"Sigma = {}\".format(sigma))"
   ]
  }
 ],
 "metadata": {
  "kernelspec": {
   "display_name": "Python 3",
   "language": "python",
   "name": "python3"
  },
  "language_info": {
   "codemirror_mode": {
    "name": "ipython",
    "version": 3
   },
   "file_extension": ".py",
   "mimetype": "text/x-python",
   "name": "python",
   "nbconvert_exporter": "python",
   "pygments_lexer": "ipython3",
   "version": "3.7.0"
  }
 },
 "nbformat": 4,
 "nbformat_minor": 2
}
