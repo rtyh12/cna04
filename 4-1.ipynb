{
 "cells": [
  {
   "cell_type": "code",
<<<<<<< HEAD
   "execution_count": 1,
=======
   "execution_count": 2,
>>>>>>> e7a6a72e90842227a88a5e87d1021402e5611c02
   "metadata": {},
   "outputs": [],
   "source": [
    "import numpy as np"
   ]
  },
  {
   "cell_type": "code",
<<<<<<< HEAD
   "execution_count": 2,
=======
   "execution_count": 11,
>>>>>>> e7a6a72e90842227a88a5e87d1021402e5611c02
   "metadata": {},
   "outputs": [
    {
     "name": "stdout",
     "output_type": "stream",
     "text": [
      "26.441627539966156\n",
      "1.756383092144017\n"
     ]
    }
   ],
   "source": [
    "degs = [3, 1, 1, 3, 2, 1, 7, 3, 1, 1, 1, 12, 2, 1, 4, 1, 1, 8, 1, 1]\n",
    "sum_val = 0\n",
    "for i in degs:\n",
<<<<<<< HEAD
    "    sum_val += np.log(i/0.5)\\\n",
    "\n",
    "gamma = 1 + len(degs)*(1/(sum_val))"
=======
    "    sum_val += np.log(i/0.5)\n",
    "    \n",
    "print(sum_val)\n",
    "\n",
    "gamma = 1 + len(degs)*(1/(sum_val))\n",
    "print(gamma)"
>>>>>>> e7a6a72e90842227a88a5e87d1021402e5611c02
   ]
  },
  {
   "cell_type": "code",
<<<<<<< HEAD
   "execution_count": 3,
=======
   "execution_count": 4,
>>>>>>> e7a6a72e90842227a88a5e87d1021402e5611c02
   "metadata": {},
   "outputs": [
    {
     "name": "stdout",
     "output_type": "stream",
     "text": [
      "0.16913240110655092\n"
     ]
    }
   ],
   "source": [
<<<<<<< HEAD
    "sigma = (gamma-1)/(np.sqrt(20))"
=======
    "sigma = (gamma-1)/(np.sqrt(20))\n",
    "print(sigma)"
>>>>>>> e7a6a72e90842227a88a5e87d1021402e5611c02
   ]
  },
  {
   "cell_type": "code",
<<<<<<< HEAD
   "execution_count": 4,
   "metadata": {},
   "outputs": [
    {
     "name": "stdout",
     "output_type": "stream",
     "text": [
      "sigma = 0.16913240110655092\n",
      "gamma = 1.756383092144017\n"
     ]
    }
   ],
   "source": [
    "print(\"sigma =\", sigma)\n",
    "print(\"gamma =\", gamma)"
   ]
=======
   "execution_count": null,
   "metadata": {},
   "outputs": [],
   "source": []
  },
  {
   "cell_type": "code",
   "execution_count": null,
   "metadata": {},
   "outputs": [],
   "source": []
>>>>>>> e7a6a72e90842227a88a5e87d1021402e5611c02
  }
 ],
 "metadata": {
  "kernelspec": {
   "display_name": "Python 3",
   "language": "python",
   "name": "python3"
  },
  "language_info": {
   "codemirror_mode": {
    "name": "ipython",
    "version": 3
   },
   "file_extension": ".py",
   "mimetype": "text/x-python",
   "name": "python",
   "nbconvert_exporter": "python",
   "pygments_lexer": "ipython3",
   "version": "3.7.0"
  }
 },
 "nbformat": 4,
 "nbformat_minor": 2
}
