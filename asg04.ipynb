{
 "cells": [
  {
   "cell_type": "markdown",
   "metadata": {},
   "source": [
    "# Assignment 4\n",
    "Submission from Maria Kagkeli, Maria Regina Lily, Mihai Verzan"
   ]
  },
  {
   "cell_type": "markdown",
   "metadata": {},
   "source": [
    "## Problem 4-1: Power Laws"
   ]
  },
  {
   "cell_type": "code",
   "execution_count": 1,
   "metadata": {},
   "outputs": [],
   "source": [
    "import numpy as np"
   ]
  },
  {
   "cell_type": "code",
   "execution_count": 2,
   "metadata": {},
   "outputs": [
    {
     "name": "stdout",
     "output_type": "stream",
     "text": [
      "sum_val = 26.441627539966156\n",
      "Gamma = 1.756383092144017\n",
      "Sigma = 0.16913240110655092\n"
     ]
    }
   ],
   "source": [
    "degs = [3, 1, 1, 3, 2, 1, 7, 3, 1, 1, 1, 12, 2, 1, 4, 1, 1, 8, 1, 1]\n",
    "sum_val = 0\n",
    "for i in degs:\n",
    "    sum_val += np.log(i/0.5)\n",
    "    \n",
    "print(\"sum_val = {}\".format(sum_val))\n",
    "\n",
    "gamma = 1 + len(degs)*(1/(sum_val))\n",
    "print(\"Gamma = {}\".format(gamma))\n",
    "\n",
    "sigma = (gamma-1)/(np.sqrt(20))\n",
    "print(\"Sigma = {}\".format(sigma))"
   ]
  },
  {
   "cell_type": "markdown",
   "metadata": {},
   "source": [
    "## Problem 4-3: Measuring Real Networks"
   ]
  },
  {
   "cell_type": "code",
   "execution_count": 3,
   "metadata": {},
   "outputs": [],
   "source": [
    "import pandas as pd\n",
    "import igraph as ig\n",
    "import networkx as nx"
   ]
  },
  {
   "cell_type": "code",
   "execution_count": 4,
   "metadata": {},
   "outputs": [],
   "source": [
    "#read and clean-up data\n",
    "data = pd.read_csv(\"dev/facebook-links.txt.anon\", sep=\"\\t\", header=None)\n",
    "data = data.drop(axis = 1, columns = 2)\n",
    "data.to_csv(\"facebook-links.txt\", header=False, index=False, sep=\"\\t\")"
   ]
  },
  {
   "cell_type": "code",
   "execution_count": 5,
   "metadata": {},
   "outputs": [],
   "source": [
    "#read clean-up data into an igraph graph and a networkx graph\n",
    "G_ig = ig.Graph.Read_Edgelist(\"facebook-links.txt\", directed=False)\n",
    "G_nx = nx.read_edgelist(\"facebook-links.txt\", delimiter=\"\\t\")"
   ]
  },
  {
   "cell_type": "code",
   "execution_count": 6,
   "metadata": {},
   "outputs": [],
   "source": [
    "#make graph undirected and simple(no multiple edges)\n",
    "G_ig = G_ig.simplify(multiple=\"False\", loops=\"False\")\n",
    "G_nx = G_nx.to_undirected()"
   ]
  },
  {
   "cell_type": "markdown",
   "metadata": {},
   "source": [
    "### 1. Diameter of graph"
   ]
  },
  {
   "cell_type": "code",
   "execution_count": 7,
   "metadata": {},
   "outputs": [
    {
     "name": "stdout",
     "output_type": "stream",
     "text": [
      "Diameter of largest_component 1 = 1\n",
      "Diameter of largest_component 2 = 1\n",
      "Diameter of largest_components 1 and 2  = 2\n"
     ]
    }
   ],
   "source": [
    "largest_comps = G_ig.largest_cliques()\n",
    "# largest_comps returns two different largest connected components\n",
    "\n",
    "comp = G_ig.subgraph(largest_comps[0])\n",
    "diam = comp.diameter()\n",
    "print(\"Diameter of largest_component 1 = {}\".format(diam))\n",
    "comp = G_ig.subgraph(largest_comps[1])\n",
    "diam = comp.diameter()\n",
    "print(\"Diameter of largest_component 2 = {}\".format(diam))\n",
    "\n",
    "# if you put these two componenets together and calculate the diameter:\n",
    "comp = G_ig.subgraph(largest_comps[0]+largest_comps[1])\n",
    "diam = comp.diameter()\n",
    "print(\"Diameter of largest_components 1 and 2  = {}\".format(diam))"
   ]
  },
  {
   "cell_type": "markdown",
   "metadata": {},
   "source": [
    "### 2. ID and degree of node with highest degree"
   ]
  },
  {
   "cell_type": "code",
   "execution_count": 8,
   "metadata": {},
   "outputs": [
    {
     "name": "stdout",
     "output_type": "stream",
     "text": [
      "Node ID = 2332,\t Degree = 1098\n"
     ]
    }
   ],
   "source": [
    "max_deg = G_ig.maxdegree()\n",
    "max_node =  G_ig.vs.find(_degree = max_deg).index\n",
    "print(\"Node ID = {},\\t Degree = {}\". format(max_node, max_deg))"
   ]
  },
  {
   "cell_type": "markdown",
   "metadata": {},
   "source": [
    "### 3. Number of triangles in the graph"
   ]
  },
  {
   "cell_type": "code",
   "execution_count": 9,
   "metadata": {},
   "outputs": [
    {
     "name": "stdout",
     "output_type": "stream",
     "text": [
      "Number of triangles = 3501542.0\n"
     ]
    }
   ],
   "source": [
    "#We could not figure how to do this with igraph, so we did this with networkx\n",
    "triangles_dict = nx.triangles(G_nx)\n",
    "triangles_count = sum(triangles_dict.values())/3\n",
    "print(\"Number of triangles = {}\".format(triangles_count))"
   ]
  },
  {
   "cell_type": "markdown",
   "metadata": {},
   "source": [
    "### 4. Average local clustering coefficient"
   ]
  },
  {
   "cell_type": "code",
   "execution_count": 10,
   "metadata": {},
   "outputs": [
    {
     "name": "stdout",
     "output_type": "stream",
     "text": [
      "Average local clustering coefficient = 0.22099020936535468\n"
     ]
    }
   ],
   "source": [
    "avg_cc = G_ig.transitivity_avglocal_undirected(mode=\"zero\")\n",
    "print(\"Average local clustering coefficient = {}\".format(avg_cc))"
   ]
  },
  {
   "cell_type": "markdown",
   "metadata": {},
   "source": [
    "### 5. Power law fitting"
   ]
  },
  {
   "cell_type": "code",
   "execution_count": 11,
   "metadata": {},
   "outputs": [
    {
     "name": "stderr",
     "output_type": "stream",
     "text": [
      "Values less than or equal to 0 in data. Throwing out 0 or negative values\n",
      "Calculating best minimal value for power law fit\n",
      "C:\\Users\\Lily\\Anaconda3\\lib\\site-packages\\powerlaw-1.4.5-py3.6.egg\\powerlaw.py:700: RuntimeWarning: invalid value encountered in true_divide\n",
      "  (Theoretical_CDF * (1 - Theoretical_CDF))\n",
      "C:\\Users\\Lily\\Anaconda3\\lib\\site-packages\\powerlaw-1.4.5-py3.6.egg\\powerlaw.py:700: RuntimeWarning: divide by zero encountered in true_divide\n",
      "  (Theoretical_CDF * (1 - Theoretical_CDF))\n"
     ]
    }
   ],
   "source": [
    "'''\n",
    "We used the python package that was linked from the website given in the homework,\n",
    "which can be found here: https://pypi.org/project/powerlaw/\n",
    "'''\n",
    "import powerlaw as pl\n",
    "\n",
    "degs = sorted(G_ig.degree())\n",
    "fit = pl.Fit(degs, discrete=True, xmin=0)"
   ]
  },
  {
   "cell_type": "markdown",
   "metadata": {},
   "source": [
    "### 6. Degree Distribution"
   ]
  },
  {
   "cell_type": "code",
   "execution_count": 12,
   "metadata": {},
   "outputs": [],
   "source": [
    "import matplotlib.pyplot as plt\n",
    "import collections\n",
    "\n",
    "#find the degree distribution of original data set\n",
    "degs_count = collections.Counter(degs)\n",
    "deg, cnt = zip(*degs_count.items())\n",
    "cnt = np.array(cnt)/len(degs)"
   ]
  },
  {
   "cell_type": "code",
   "execution_count": 14,
   "metadata": {},
   "outputs": [
    {
     "name": "stderr",
     "output_type": "stream",
     "text": [
      "C:\\Users\\Lily\\Anaconda3\\lib\\site-packages\\powerlaw-1.4.5-py3.6.egg\\powerlaw.py:700: RuntimeWarning: invalid value encountered in true_divide\n",
      "  (Theoretical_CDF * (1 - Theoretical_CDF))\n"
     ]
    },
    {
     "data": {
      "image/png": "[encoded data removed]",
      "text/plain": [
       "<Figure size 576x576 with 1 Axes>"
      ]
     },
     "metadata": {
      "needs_background": "light"
     },
     "output_type": "display_data"
    }
   ],
   "source": [
    "fig, ax = plt.subplots()\n",
    "fig.set_figwidth(8)\n",
    "fig.set_figheight(8)\n",
    "plt.xscale(\"log\")\n",
    "\n",
    "plt.plot(deg, cnt, color='b')\n",
    "fit.power_law.plot_pdf(ax=ax, color='r')\n",
    "\n",
    "plt.legend([\"original degree distribution\", \"powerlaw fitting\"])\n",
    "plt.title(\"Degree Distribution Graph\")\n",
    "plt.show()\n"
   ]
  }
 ],
 "metadata": {
  "kernelspec": {
   "display_name": "Python 3",
   "language": "python",
   "name": "python3"
  },
  "language_info": {
   "codemirror_mode": {
    "name": "ipython",
    "version": 3
   },
   "file_extension": ".py",
   "mimetype": "text/x-python",
   "name": "python",
   "nbconvert_exporter": "python",
   "pygments_lexer": "ipython3",
   "version": "3.6.6"
  }
 },
 "nbformat": 4,
 "nbformat_minor": 2
}
